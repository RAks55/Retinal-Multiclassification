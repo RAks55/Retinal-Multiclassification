{
  "nbformat": 4,
  "nbformat_minor": 0,
  "metadata": {
    "colab": {
      "name": "Copy of MulticlassIncep.ipynb",
      "provenance": [],
      "collapsed_sections": [],
      "include_colab_link": true
    },
    "kernelspec": {
      "name": "python3",
      "display_name": "Python 3"
    },
    "language_info": {
      "name": "python"
    },
    "accelerator": "GPU"
  },
  "cells": [
    {
      "cell_type": "markdown",
      "metadata": {
        "id": "view-in-github",
        "colab_type": "text"
      },
      "source": [
        "<a href=\"https://colab.research.google.com/github/RAks55/Retinal-Multiclassification/blob/main/Copy_of_MulticlassIncep.ipynb\" target=\"_parent\"><img src=\"https://colab.research.google.com/assets/colab-badge.svg\" alt=\"Open In Colab\"/></a>"
      ]
    },
    {
      "cell_type": "code",
      "source": [
        "import matplotlib.pyplot as plt\n",
        "import numpy as np\n",
        "import os\n",
        "import PIL\n",
        "import tensorflow as tf\n",
        "from tensorflow import keras\n",
        "from tensorflow.keras.preprocessing.image import ImageDataGenerator\n",
        "from tensorflow.keras import layers\n",
        "from tensorflow.python.keras.layers import Dense, Flatten, Dropout\n",
        "from tensorflow.keras.models import Sequential\n",
        "from tensorflow.keras.optimizers import Adam\n",
        "from tensorflow.keras.callbacks import EarlyStopping, ModelCheckpoint"
      ],
      "metadata": {
        "id": "1pQv0P2RQaXR"
      },
      "execution_count": null,
      "outputs": []
    },
    {
      "cell_type": "code",
      "source": [
        "from google.colab import drive\n",
        "drive.mount('/content/drive')"
      ],
      "metadata": {
        "colab": {
          "base_uri": "https://localhost:8080/"
        },
        "id": "k3vwYYSUcF2b",
        "outputId": "f785e4d8-a945-46d5-8434-2182ba21e50f"
      },
      "execution_count": null,
      "outputs": [
        {
          "output_type": "stream",
          "name": "stdout",
          "text": [
            "Mounted at /content/drive\n"
          ]
        }
      ]
    },
    {
      "cell_type": "code",
      "source": [
        "img_width=299; img_height=299\n",
        "batch_size=32"
      ],
      "metadata": {
        "id": "ctFLzN9dcZ8m"
      },
      "execution_count": null,
      "outputs": []
    },
    {
      "cell_type": "code",
      "source": [
        "TRAINING_DIR = '/content/drive/MyDrive/OCT2017/train'\n",
        "\n",
        "train_datagen = ImageDataGenerator(rescale = 1/255.0)\n",
        "                                \n",
        "\n",
        "train_generator = train_datagen.flow_from_directory(TRAINING_DIR,\n",
        "                                                    batch_size=batch_size,\n",
        "                                                    class_mode='categorical',\n",
        "                                                    target_size=(img_height, img_width))"
      ],
      "metadata": {
        "colab": {
          "base_uri": "https://localhost:8080/"
        },
        "id": "P-TO8uwKgAlu",
        "outputId": "223975fd-c192-48ce-cbbb-815f69d7eea8"
      },
      "execution_count": null,
      "outputs": [
        {
          "output_type": "stream",
          "name": "stdout",
          "text": [
            "Found 12008 images belonging to 4 classes.\n"
          ]
        }
      ]
    },
    {
      "cell_type": "code",
      "source": [
        "VALIDATION_DIR = '/content/drive/MyDrive/OCT2017/val'\n",
        "\n",
        "validation_datagen = ImageDataGenerator(rescale = 1/255.0)\n",
        "\n",
        "validation_generator = validation_datagen.flow_from_directory(VALIDATION_DIR,\n",
        "                                                              batch_size=batch_size,\n",
        "                                                              class_mode='categorical',\n",
        "                                                              target_size=(img_height, img_width)\n",
        "                                                             )"
      ],
      "metadata": {
        "colab": {
          "base_uri": "https://localhost:8080/"
        },
        "id": "d7IJ706ZgIkB",
        "outputId": "7135f8b1-55fc-49fd-ca10-5cbfebc2be5e"
      },
      "execution_count": null,
      "outputs": [
        {
          "output_type": "stream",
          "name": "stdout",
          "text": [
            "Found 1200 images belonging to 4 classes.\n"
          ]
        }
      ]
    },
    {
      "cell_type": "code",
      "source": [
        "TEST_DIR = '/content/drive/MyDrive/OCT2017/test'\n",
        "\n",
        "test_datagen = ImageDataGenerator(rescale = 1/255.0)\n",
        "\n",
        "test_generator = validation_datagen.flow_from_directory(TEST_DIR,\n",
        "                                                              batch_size=batch_size,\n",
        "                                                              class_mode='categorical',\n",
        "                                                              target_size=(img_height, img_width)\n",
        "                                                             )"
      ],
      "metadata": {
        "colab": {
          "base_uri": "https://localhost:8080/"
        },
        "id": "mvzjkhQHgL71",
        "outputId": "21ae8bc6-7802-40a5-ab6f-7dcf3d354973"
      },
      "execution_count": null,
      "outputs": [
        {
          "output_type": "stream",
          "name": "stdout",
          "text": [
            "Found 977 images belonging to 4 classes.\n"
          ]
        }
      ]
    },
    {
      "cell_type": "code",
      "source": [
        "train_generator.class_indices"
      ],
      "metadata": {
        "colab": {
          "base_uri": "https://localhost:8080/"
        },
        "id": "b3agRSaRgQZk",
        "outputId": "532b9ee7-2220-4448-dd6e-5b35d65fe0b5"
      },
      "execution_count": null,
      "outputs": [
        {
          "output_type": "execute_result",
          "data": {
            "text/plain": [
              "{'CNV': 0, 'DME': 1, 'DRUSEN': 2, 'NORMAL': 3}"
            ]
          },
          "metadata": {},
          "execution_count": 7
        }
      ]
    },
    {
      "cell_type": "code",
      "source": [
        "inception_model = Sequential()\n",
        "\n",
        "pretrained_model= tf.keras.applications.InceptionV3(include_top=False,\n",
        "    weights=\"imagenet\",\n",
        "    input_shape=(299,299,3),\n",
        "    pooling='avg', classes=4)\n",
        "for layer in pretrained_model.layers:\n",
        "        layer.trainable=False\n",
        "\n",
        "inception_model.add(pretrained_model)\n",
        "inception_model.add(Flatten())\n",
        "\n",
        "inception_model.add(Dense(512, activation='relu'))\n",
        "\n",
        "inception_model.add(Dense(4, activation='softmax'))\n",
        "inception_model.summary()"
      ],
      "metadata": {
        "colab": {
          "base_uri": "https://localhost:8080/"
        },
        "id": "kNiTqh83dO7e",
        "outputId": "74e24dc3-c9c9-4bd5-a2bb-ca5ed62fe7e4"
      },
      "execution_count": null,
      "outputs": [
        {
          "output_type": "stream",
          "name": "stdout",
          "text": [
            "Downloading data from https://storage.googleapis.com/tensorflow/keras-applications/inception_v3/inception_v3_weights_tf_dim_ordering_tf_kernels_notop.h5\n",
            "87916544/87910968 [==============================] - 1s 0us/step\n",
            "87924736/87910968 [==============================] - 1s 0us/step\n",
            "Model: \"sequential\"\n",
            "_________________________________________________________________\n",
            " Layer (type)                Output Shape              Param #   \n",
            "=================================================================\n",
            " inception_v3 (Functional)   (None, 2048)              21802784  \n",
            "                                                                 \n",
            " module_wrapper (ModuleWrapp  (None, 2048)             0         \n",
            " er)                                                             \n",
            "                                                                 \n",
            " module_wrapper_1 (ModuleWra  (None, 512)              1049088   \n",
            " pper)                                                           \n",
            "                                                                 \n",
            " module_wrapper_2 (ModuleWra  (None, 4)                2052      \n",
            " pper)                                                           \n",
            "                                                                 \n",
            "=================================================================\n",
            "Total params: 22,853,924\n",
            "Trainable params: 1,051,140\n",
            "Non-trainable params: 21,802,784\n",
            "_________________________________________________________________\n"
          ]
        }
      ]
    },
    {
      "cell_type": "code",
      "source": [
        "callbacks = EarlyStopping(monitor='val_loss', patience=5, verbose=1, mode='auto')\n",
        "# autosave best Model\n",
        "best_model_file = '/content/CNN_aug_best_weights.h5'\n",
        "best_model = ModelCheckpoint(best_model_file, monitor='val_acc', verbose = 1, save_best_only = True)"
      ],
      "metadata": {
        "id": "J7uSVfsukSmr"
      },
      "execution_count": null,
      "outputs": []
    },
    {
      "cell_type": "code",
      "source": [
        "inception_model.compile(optimizer=Adam(lr=0.001),loss='categorical_crossentropy',metrics=['accuracy'])"
      ],
      "metadata": {
        "colab": {
          "base_uri": "https://localhost:8080/"
        },
        "id": "f8872pqjdrfQ",
        "outputId": "2bf23190-62cd-4e40-e512-8b9c44c2db27"
      },
      "execution_count": null,
      "outputs": [
        {
          "output_type": "stream",
          "name": "stderr",
          "text": [
            "/usr/local/lib/python3.7/dist-packages/keras/optimizer_v2/adam.py:105: UserWarning: The `lr` argument is deprecated, use `learning_rate` instead.\n",
            "  super(Adam, self).__init__(name, **kwargs)\n"
          ]
        }
      ]
    },
    {
      "cell_type": "code",
      "source": [
        "history = inception_model.fit(train_generator,\n",
        "                              epochs=25,\n",
        "                              verbose=1,\n",
        "                              validation_data=validation_generator,\n",
        "                              callbacks = [best_model]\n",
        "                              )"
      ],
      "metadata": {
        "colab": {
          "base_uri": "https://localhost:8080/"
        },
        "id": "BASOZ6H0dzK_",
        "outputId": "b3c77d4b-3a8b-4658-f76d-5655534291c7"
      },
      "execution_count": null,
      "outputs": [
        {
          "output_type": "stream",
          "name": "stdout",
          "text": [
            "Epoch 1/25\n",
            "376/376 [==============================] - ETA: 0s - loss: 0.5699 - accuracy: 0.7871WARNING:tensorflow:Can save best model only with val_acc available, skipping.\n",
            "376/376 [==============================] - 4279s 11s/step - loss: 0.5699 - accuracy: 0.7871 - val_loss: 0.6461 - val_accuracy: 0.7483\n",
            "Epoch 2/25\n",
            "376/376 [==============================] - ETA: 0s - loss: 0.3769 - accuracy: 0.8601WARNING:tensorflow:Can save best model only with val_acc available, skipping.\n",
            "376/376 [==============================] - 117s 311ms/step - loss: 0.3769 - accuracy: 0.8601 - val_loss: 0.5519 - val_accuracy: 0.7867\n",
            "Epoch 3/25\n",
            "376/376 [==============================] - ETA: 0s - loss: 0.3456 - accuracy: 0.8710WARNING:tensorflow:Can save best model only with val_acc available, skipping.\n",
            "376/376 [==============================] - 118s 312ms/step - loss: 0.3456 - accuracy: 0.8710 - val_loss: 0.5803 - val_accuracy: 0.7700\n",
            "Epoch 4/25\n",
            "376/376 [==============================] - ETA: 0s - loss: 0.2937 - accuracy: 0.8917WARNING:tensorflow:Can save best model only with val_acc available, skipping.\n",
            "376/376 [==============================] - 117s 312ms/step - loss: 0.2937 - accuracy: 0.8917 - val_loss: 0.9042 - val_accuracy: 0.7350\n",
            "Epoch 5/25\n",
            "376/376 [==============================] - ETA: 0s - loss: 0.2743 - accuracy: 0.8968WARNING:tensorflow:Can save best model only with val_acc available, skipping.\n",
            "376/376 [==============================] - 118s 312ms/step - loss: 0.2743 - accuracy: 0.8968 - val_loss: 0.9064 - val_accuracy: 0.7350\n",
            "Epoch 6/25\n",
            "376/376 [==============================] - ETA: 0s - loss: 0.2509 - accuracy: 0.9095WARNING:tensorflow:Can save best model only with val_acc available, skipping.\n",
            "376/376 [==============================] - 118s 312ms/step - loss: 0.2509 - accuracy: 0.9095 - val_loss: 0.7928 - val_accuracy: 0.7758\n",
            "Epoch 7/25\n",
            "376/376 [==============================] - ETA: 0s - loss: 0.2274 - accuracy: 0.9186WARNING:tensorflow:Can save best model only with val_acc available, skipping.\n",
            "376/376 [==============================] - 117s 312ms/step - loss: 0.2274 - accuracy: 0.9186 - val_loss: 0.6599 - val_accuracy: 0.7850\n",
            "Epoch 8/25\n",
            "376/376 [==============================] - ETA: 0s - loss: 0.2131 - accuracy: 0.9206WARNING:tensorflow:Can save best model only with val_acc available, skipping.\n",
            "376/376 [==============================] - 118s 312ms/step - loss: 0.2131 - accuracy: 0.9206 - val_loss: 0.7871 - val_accuracy: 0.7667\n",
            "Epoch 9/25\n",
            "376/376 [==============================] - ETA: 0s - loss: 0.1979 - accuracy: 0.9272WARNING:tensorflow:Can save best model only with val_acc available, skipping.\n",
            "376/376 [==============================] - 118s 312ms/step - loss: 0.1979 - accuracy: 0.9272 - val_loss: 0.7689 - val_accuracy: 0.7725\n",
            "Epoch 10/25\n",
            "376/376 [==============================] - ETA: 0s - loss: 0.1888 - accuracy: 0.9314WARNING:tensorflow:Can save best model only with val_acc available, skipping.\n",
            "376/376 [==============================] - 118s 312ms/step - loss: 0.1888 - accuracy: 0.9314 - val_loss: 0.6305 - val_accuracy: 0.7967\n",
            "Epoch 11/25\n",
            "376/376 [==============================] - ETA: 0s - loss: 0.1687 - accuracy: 0.9376WARNING:tensorflow:Can save best model only with val_acc available, skipping.\n",
            "376/376 [==============================] - 118s 313ms/step - loss: 0.1687 - accuracy: 0.9376 - val_loss: 0.6573 - val_accuracy: 0.8133\n",
            "Epoch 12/25\n",
            "376/376 [==============================] - ETA: 0s - loss: 0.1461 - accuracy: 0.9470WARNING:tensorflow:Can save best model only with val_acc available, skipping.\n",
            "376/376 [==============================] - 117s 312ms/step - loss: 0.1461 - accuracy: 0.9470 - val_loss: 0.7661 - val_accuracy: 0.7908\n",
            "Epoch 13/25\n",
            "376/376 [==============================] - ETA: 0s - loss: 0.1352 - accuracy: 0.9525WARNING:tensorflow:Can save best model only with val_acc available, skipping.\n",
            "376/376 [==============================] - 118s 312ms/step - loss: 0.1352 - accuracy: 0.9525 - val_loss: 0.7537 - val_accuracy: 0.8050\n",
            "Epoch 14/25\n",
            "376/376 [==============================] - ETA: 0s - loss: 0.1219 - accuracy: 0.9572WARNING:tensorflow:Can save best model only with val_acc available, skipping.\n",
            "376/376 [==============================] - 118s 313ms/step - loss: 0.1219 - accuracy: 0.9572 - val_loss: 0.7611 - val_accuracy: 0.7975\n",
            "Epoch 15/25\n",
            "376/376 [==============================] - ETA: 0s - loss: 0.1272 - accuracy: 0.9546WARNING:tensorflow:Can save best model only with val_acc available, skipping.\n",
            "376/376 [==============================] - 118s 312ms/step - loss: 0.1272 - accuracy: 0.9546 - val_loss: 0.9467 - val_accuracy: 0.7692\n",
            "Epoch 16/25\n",
            "376/376 [==============================] - ETA: 0s - loss: 0.1054 - accuracy: 0.9629WARNING:tensorflow:Can save best model only with val_acc available, skipping.\n",
            "376/376 [==============================] - 118s 313ms/step - loss: 0.1054 - accuracy: 0.9629 - val_loss: 0.7461 - val_accuracy: 0.8000\n",
            "Epoch 17/25\n",
            "376/376 [==============================] - ETA: 0s - loss: 0.0993 - accuracy: 0.9648WARNING:tensorflow:Can save best model only with val_acc available, skipping.\n",
            "376/376 [==============================] - 117s 312ms/step - loss: 0.0993 - accuracy: 0.9648 - val_loss: 0.9112 - val_accuracy: 0.7725\n",
            "Epoch 18/25\n",
            "376/376 [==============================] - ETA: 0s - loss: 0.0939 - accuracy: 0.9666WARNING:tensorflow:Can save best model only with val_acc available, skipping.\n",
            "376/376 [==============================] - 117s 312ms/step - loss: 0.0939 - accuracy: 0.9666 - val_loss: 0.8026 - val_accuracy: 0.7958\n",
            "Epoch 19/25\n",
            "376/376 [==============================] - ETA: 0s - loss: 0.0777 - accuracy: 0.9723WARNING:tensorflow:Can save best model only with val_acc available, skipping.\n",
            "376/376 [==============================] - 118s 313ms/step - loss: 0.0777 - accuracy: 0.9723 - val_loss: 0.8684 - val_accuracy: 0.7942\n",
            "Epoch 20/25\n",
            "376/376 [==============================] - ETA: 0s - loss: 0.0720 - accuracy: 0.9745WARNING:tensorflow:Can save best model only with val_acc available, skipping.\n",
            "376/376 [==============================] - 118s 312ms/step - loss: 0.0720 - accuracy: 0.9745 - val_loss: 0.9737 - val_accuracy: 0.7850\n",
            "Epoch 21/25\n",
            "376/376 [==============================] - ETA: 0s - loss: 0.0666 - accuracy: 0.9766WARNING:tensorflow:Can save best model only with val_acc available, skipping.\n",
            "376/376 [==============================] - 118s 312ms/step - loss: 0.0666 - accuracy: 0.9766 - val_loss: 0.8830 - val_accuracy: 0.8133\n",
            "Epoch 22/25\n",
            "376/376 [==============================] - ETA: 0s - loss: 0.0657 - accuracy: 0.9776WARNING:tensorflow:Can save best model only with val_acc available, skipping.\n",
            "376/376 [==============================] - 117s 312ms/step - loss: 0.0657 - accuracy: 0.9776 - val_loss: 1.0275 - val_accuracy: 0.7917\n",
            "Epoch 23/25\n",
            "376/376 [==============================] - ETA: 0s - loss: 0.0624 - accuracy: 0.9778WARNING:tensorflow:Can save best model only with val_acc available, skipping.\n",
            "376/376 [==============================] - 118s 312ms/step - loss: 0.0624 - accuracy: 0.9778 - val_loss: 0.9367 - val_accuracy: 0.8067\n",
            "Epoch 24/25\n",
            "376/376 [==============================] - ETA: 0s - loss: 0.0750 - accuracy: 0.9750WARNING:tensorflow:Can save best model only with val_acc available, skipping.\n",
            "376/376 [==============================] - 118s 312ms/step - loss: 0.0750 - accuracy: 0.9750 - val_loss: 1.0198 - val_accuracy: 0.7817\n",
            "Epoch 25/25\n",
            "376/376 [==============================] - ETA: 0s - loss: 0.0418 - accuracy: 0.9858WARNING:tensorflow:Can save best model only with val_acc available, skipping.\n",
            "376/376 [==============================] - 117s 312ms/step - loss: 0.0418 - accuracy: 0.9858 - val_loss: 1.0886 - val_accuracy: 0.8058\n"
          ]
        }
      ]
    },
    {
      "cell_type": "code",
      "source": [
        "acc=history.history['accuracy']\n",
        "val_acc=history.history['val_accuracy']\n",
        "loss=history.history['loss']\n",
        "val_loss=history.history['val_loss']\n",
        "\n",
        "epochs=range(len(acc))\n",
        "\n",
        "fig = plt.figure(figsize=(14,7))\n",
        "plt.plot(epochs, acc, 'r', label=\"Training Accuracy\")\n",
        "plt.plot(epochs, val_acc, 'b', label=\"Validation Accuracy\")\n",
        "plt.xlabel('Epoch')\n",
        "plt.ylabel('Accuracy')\n",
        "plt.title('Training and validation accuracy')\n",
        "plt.legend(loc='lower right')\n",
        "plt.show()"
      ],
      "metadata": {
        "id": "7wl18rIHkgYs",
        "colab": {
          "base_uri": "https://localhost:8080/",
          "height": 458
        },
        "outputId": "dccfaa01-153a-4dae-bbd5-be635443b282"
      },
      "execution_count": null,
      "outputs": [
        {
          "output_type": "display_data",
          "data": {
            "text/plain": [
              "<Figure size 1008x504 with 1 Axes>"
            ],
            "image/png": "[encoded data removed]"
          },
          "metadata": {
            "needs_background": "light"
          }
        }
      ]
    },
    {
      "cell_type": "code",
      "source": [
        "fig2 = plt.figure(figsize=(14,7))\n",
        "plt.plot(epochs, loss, 'r', label=\"Training Loss\")\n",
        "plt.plot(epochs, val_loss, 'b', label=\"Validation Loss\")\n",
        "plt.legend(loc='upper right')\n",
        "plt.xlabel('Epoch')\n",
        "plt.ylabel('Loss')\n",
        "plt.title('Training and validation loss')"
      ],
      "metadata": {
        "id": "Q06LbvV3k4s-",
        "colab": {
          "base_uri": "https://localhost:8080/",
          "height": 475
        },
        "outputId": "a9cfab23-98ff-4890-efd5-88b97f2dbc9f"
      },
      "execution_count": null,
      "outputs": [
        {
          "output_type": "execute_result",
          "data": {
            "text/plain": [
              "Text(0.5, 1.0, 'Training and validation loss')"
            ]
          },
          "metadata": {},
          "execution_count": 13
        },
        {
          "output_type": "display_data",
          "data": {
            "text/plain": [
              "<Figure size 1008x504 with 1 Axes>"
            ],
            "image/png": "[encoded data removed]"
          },
          "metadata": {
            "needs_background": "light"
          }
        }
      ]
    },
    {
      "cell_type": "code",
      "source": [
        "inception_model.evaluate_generator(train_generator)"
      ],
      "metadata": {
        "colab": {
          "base_uri": "https://localhost:8080/"
        },
        "id": "EjZ0m8HyM4XN",
        "outputId": "aee3af9d-12e9-4b1d-e49c-0dbfe71a2cc0"
      },
      "execution_count": null,
      "outputs": [
        {
          "output_type": "stream",
          "name": "stderr",
          "text": [
            "/usr/local/lib/python3.7/dist-packages/ipykernel_launcher.py:1: UserWarning: `Model.evaluate_generator` is deprecated and will be removed in a future version. Please use `Model.evaluate`, which supports generators.\n",
            "  \"\"\"Entry point for launching an IPython kernel.\n"
          ]
        },
        {
          "output_type": "execute_result",
          "data": {
            "text/plain": [
              "[0.022003991529345512, 0.9950866103172302]"
            ]
          },
          "metadata": {},
          "execution_count": 16
        }
      ]
    },
    {
      "cell_type": "code",
      "source": [
        "inception_model.evaluate_generator(test_generator)"
      ],
      "metadata": {
        "colab": {
          "base_uri": "https://localhost:8080/"
        },
        "id": "8pZlOgwoNOBQ",
        "outputId": "c35cc8b1-8b43-4843-bfa5-48afa152932d"
      },
      "execution_count": null,
      "outputs": [
        {
          "output_type": "stream",
          "name": "stderr",
          "text": [
            "/usr/local/lib/python3.7/dist-packages/ipykernel_launcher.py:1: UserWarning: `Model.evaluate_generator` is deprecated and will be removed in a future version. Please use `Model.evaluate`, which supports generators.\n",
            "  \"\"\"Entry point for launching an IPython kernel.\n"
          ]
        },
        {
          "output_type": "execute_result",
          "data": {
            "text/plain": [
              "[0.2921850383281708, 0.935516893863678]"
            ]
          },
          "metadata": {},
          "execution_count": 17
        }
      ]
    },
    {
      "cell_type": "code",
      "source": [
        "predictions=inception_model.predict(test_generator)\n",
        "predictions"
      ],
      "metadata": {
        "colab": {
          "base_uri": "https://localhost:8080/"
        },
        "id": "B90fbRmfNR53",
        "outputId": "c2c6399e-4bd9-4a9c-a0d1-b00bb0440df5"
      },
      "execution_count": null,
      "outputs": [
        {
          "output_type": "execute_result",
          "data": {
            "text/plain": [
              "array([[8.7818094e-13, 5.2312372e-04, 1.4464461e-04, 9.9933225e-01],\n",
              "       [1.0037405e-08, 5.3283129e-06, 9.7960299e-01, 2.0391624e-02],\n",
              "       [5.9607638e-19, 5.3041763e-06, 2.0520082e-08, 9.9999475e-01],\n",
              "       ...,\n",
              "       [3.7235714e-04, 9.9962759e-01, 4.9989130e-14, 1.3340437e-12],\n",
              "       [5.8582705e-02, 4.4660292e-06, 9.4141287e-01, 8.2484108e-09],\n",
              "       [2.6204489e-05, 9.9996161e-01, 2.7189524e-06, 9.4411680e-06]],\n",
              "      dtype=float32)"
            ]
          },
          "metadata": {},
          "execution_count": 21
        }
      ]
    },
    {
      "cell_type": "code",
      "source": [
        ""
      ],
      "metadata": {
        "id": "rVBEVfKoqe7v"
      },
      "execution_count": null,
      "outputs": []
    }
  ]
}